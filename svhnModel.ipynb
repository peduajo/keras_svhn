{
 "cells": [
  {
   "cell_type": "code",
   "execution_count": 1,
   "metadata": {},
   "outputs": [
    {
     "name": "stderr",
     "output_type": "stream",
     "text": [
      "/home/eduardo/.local/lib/python3.5/site-packages/h5py/__init__.py:36: FutureWarning: Conversion of the second argument of issubdtype from `float` to `np.floating` is deprecated. In future, it will be treated as `np.float64 == np.dtype(float).type`.\n",
      "  from ._conv import register_converters as _register_converters\n",
      "Using TensorFlow backend.\n"
     ]
    }
   ],
   "source": [
    "import pandas as pd\n",
    "import matplotlib.pyplot as plt\n",
    "import keras\n",
    "from keras.models import Sequential, Model\n",
    "from keras.layers import Dense, Dropout, Activation, Flatten, Input, BatchNormalization, Conv2D, MaxPooling2D\n",
    "import numpy as np"
   ]
  },
  {
   "cell_type": "code",
   "execution_count": 2,
   "metadata": {},
   "outputs": [],
   "source": [
    "train_images = pd.read_csv('../housenumbers/train_images.csv').drop('filename', axis=1).astype('float32')\n",
    "train_labels = pd.read_csv('../housenumbers/train_labels.csv').drop('filename', axis=1).astype('int16')\n",
    "\n",
    "test_images = pd.read_csv('../housenumbers/test_images.csv').drop('filename', axis=1).astype('float32')\n",
    "test_labels = pd.read_csv('../housenumbers/test_labels.csv').drop('filename', axis=1).astype('int16')\n",
    "\n",
    "extra_images = pd.read_csv('../housenumbers/extra_images.csv').drop('filename', axis=1).astype('float32')\n",
    "extra_labels = pd.read_csv('../housenumbers/extra_labels.csv').drop('filename', axis=1).astype('int16')"
   ]
  },
  {
   "cell_type": "code",
   "execution_count": 3,
   "metadata": {},
   "outputs": [
    {
     "data": {
      "text/plain": [
       "((13000, 1024), (13000, 5), (6000, 1024), (6000, 5), (13000, 1024), (13000, 5))"
      ]
     },
     "execution_count": 3,
     "metadata": {},
     "output_type": "execute_result"
    }
   ],
   "source": [
    "train_images.shape, train_labels.shape, test_images.shape, test_labels.shape, extra_images.shape, extra_labels.shape"
   ]
  },
  {
   "cell_type": "code",
   "execution_count": 4,
   "metadata": {},
   "outputs": [
    {
     "data": {
      "text/html": [
       "<div>\n",
       "<style scoped>\n",
       "    .dataframe tbody tr th:only-of-type {\n",
       "        vertical-align: middle;\n",
       "    }\n",
       "\n",
       "    .dataframe tbody tr th {\n",
       "        vertical-align: top;\n",
       "    }\n",
       "\n",
       "    .dataframe thead th {\n",
       "        text-align: right;\n",
       "    }\n",
       "</style>\n",
       "<table border=\"1\" class=\"dataframe\">\n",
       "  <thead>\n",
       "    <tr style=\"text-align: right;\">\n",
       "      <th></th>\n",
       "      <th>0</th>\n",
       "      <th>1</th>\n",
       "      <th>2</th>\n",
       "      <th>3</th>\n",
       "      <th>4</th>\n",
       "      <th>5</th>\n",
       "      <th>6</th>\n",
       "      <th>7</th>\n",
       "      <th>8</th>\n",
       "      <th>9</th>\n",
       "    </tr>\n",
       "  </thead>\n",
       "  <tbody>\n",
       "    <tr>\n",
       "      <th>0</th>\n",
       "      <td>0.352349</td>\n",
       "      <td>0.366906</td>\n",
       "      <td>0.373620</td>\n",
       "      <td>0.360278</td>\n",
       "      <td>0.330929</td>\n",
       "      <td>0.309424</td>\n",
       "      <td>0.293906</td>\n",
       "      <td>0.297059</td>\n",
       "      <td>0.304902</td>\n",
       "      <td>0.312745</td>\n",
       "    </tr>\n",
       "    <tr>\n",
       "      <th>1</th>\n",
       "      <td>0.754941</td>\n",
       "      <td>0.726082</td>\n",
       "      <td>0.680365</td>\n",
       "      <td>0.628380</td>\n",
       "      <td>0.572475</td>\n",
       "      <td>0.520447</td>\n",
       "      <td>0.486898</td>\n",
       "      <td>0.469718</td>\n",
       "      <td>0.449831</td>\n",
       "      <td>0.429498</td>\n",
       "    </tr>\n",
       "    <tr>\n",
       "      <th>2</th>\n",
       "      <td>0.180714</td>\n",
       "      <td>0.192925</td>\n",
       "      <td>0.204243</td>\n",
       "      <td>0.226600</td>\n",
       "      <td>0.233271</td>\n",
       "      <td>0.227729</td>\n",
       "      <td>0.225663</td>\n",
       "      <td>0.221294</td>\n",
       "      <td>0.218545</td>\n",
       "      <td>0.215796</td>\n",
       "    </tr>\n",
       "    <tr>\n",
       "      <th>3</th>\n",
       "      <td>0.884024</td>\n",
       "      <td>0.884024</td>\n",
       "      <td>0.876180</td>\n",
       "      <td>0.864416</td>\n",
       "      <td>0.852651</td>\n",
       "      <td>0.833043</td>\n",
       "      <td>0.793102</td>\n",
       "      <td>0.750412</td>\n",
       "      <td>0.706549</td>\n",
       "      <td>0.675624</td>\n",
       "    </tr>\n",
       "    <tr>\n",
       "      <th>4</th>\n",
       "      <td>0.352416</td>\n",
       "      <td>0.351690</td>\n",
       "      <td>0.358639</td>\n",
       "      <td>0.368573</td>\n",
       "      <td>0.373008</td>\n",
       "      <td>0.392616</td>\n",
       "      <td>0.414012</td>\n",
       "      <td>0.412047</td>\n",
       "      <td>0.390263</td>\n",
       "      <td>0.397894</td>\n",
       "    </tr>\n",
       "    <tr>\n",
       "      <th>5</th>\n",
       "      <td>0.671937</td>\n",
       "      <td>0.669145</td>\n",
       "      <td>0.678161</td>\n",
       "      <td>0.686451</td>\n",
       "      <td>0.692675</td>\n",
       "      <td>0.693122</td>\n",
       "      <td>0.689200</td>\n",
       "      <td>0.745722</td>\n",
       "      <td>0.826902</td>\n",
       "      <td>0.838667</td>\n",
       "    </tr>\n",
       "    <tr>\n",
       "      <th>6</th>\n",
       "      <td>0.345863</td>\n",
       "      <td>0.345863</td>\n",
       "      <td>0.345863</td>\n",
       "      <td>0.341941</td>\n",
       "      <td>0.334545</td>\n",
       "      <td>0.328322</td>\n",
       "      <td>0.323227</td>\n",
       "      <td>0.317004</td>\n",
       "      <td>0.309161</td>\n",
       "      <td>0.305239</td>\n",
       "    </tr>\n",
       "    <tr>\n",
       "      <th>7</th>\n",
       "      <td>0.337051</td>\n",
       "      <td>0.347600</td>\n",
       "      <td>0.352651</td>\n",
       "      <td>0.354227</td>\n",
       "      <td>0.361792</td>\n",
       "      <td>0.371702</td>\n",
       "      <td>0.368227</td>\n",
       "      <td>0.348620</td>\n",
       "      <td>0.322063</td>\n",
       "      <td>0.306098</td>\n",
       "    </tr>\n",
       "    <tr>\n",
       "      <th>8</th>\n",
       "      <td>0.069988</td>\n",
       "      <td>0.078961</td>\n",
       "      <td>0.087933</td>\n",
       "      <td>0.076573</td>\n",
       "      <td>0.104961</td>\n",
       "      <td>0.176400</td>\n",
       "      <td>0.213761</td>\n",
       "      <td>0.218576</td>\n",
       "      <td>0.212353</td>\n",
       "      <td>0.196667</td>\n",
       "    </tr>\n",
       "    <tr>\n",
       "      <th>9</th>\n",
       "      <td>0.198686</td>\n",
       "      <td>0.189714</td>\n",
       "      <td>0.177267</td>\n",
       "      <td>0.171937</td>\n",
       "      <td>0.177200</td>\n",
       "      <td>0.194910</td>\n",
       "      <td>0.216988</td>\n",
       "      <td>0.235145</td>\n",
       "      <td>0.239961</td>\n",
       "      <td>0.259290</td>\n",
       "    </tr>\n",
       "  </tbody>\n",
       "</table>\n",
       "</div>"
      ],
      "text/plain": [
       "          0         1         2         3         4         5         6  \\\n",
       "0  0.352349  0.366906  0.373620  0.360278  0.330929  0.309424  0.293906   \n",
       "1  0.754941  0.726082  0.680365  0.628380  0.572475  0.520447  0.486898   \n",
       "2  0.180714  0.192925  0.204243  0.226600  0.233271  0.227729  0.225663   \n",
       "3  0.884024  0.884024  0.876180  0.864416  0.852651  0.833043  0.793102   \n",
       "4  0.352416  0.351690  0.358639  0.368573  0.373008  0.392616  0.414012   \n",
       "5  0.671937  0.669145  0.678161  0.686451  0.692675  0.693122  0.689200   \n",
       "6  0.345863  0.345863  0.345863  0.341941  0.334545  0.328322  0.323227   \n",
       "7  0.337051  0.347600  0.352651  0.354227  0.361792  0.371702  0.368227   \n",
       "8  0.069988  0.078961  0.087933  0.076573  0.104961  0.176400  0.213761   \n",
       "9  0.198686  0.189714  0.177267  0.171937  0.177200  0.194910  0.216988   \n",
       "\n",
       "          7         8         9  \n",
       "0  0.297059  0.304902  0.312745  \n",
       "1  0.469718  0.449831  0.429498  \n",
       "2  0.221294  0.218545  0.215796  \n",
       "3  0.750412  0.706549  0.675624  \n",
       "4  0.412047  0.390263  0.397894  \n",
       "5  0.745722  0.826902  0.838667  \n",
       "6  0.317004  0.309161  0.305239  \n",
       "7  0.348620  0.322063  0.306098  \n",
       "8  0.218576  0.212353  0.196667  \n",
       "9  0.235145  0.239961  0.259290  "
      ]
     },
     "execution_count": 4,
     "metadata": {},
     "output_type": "execute_result"
    }
   ],
   "source": [
    "train_images.iloc[:10,:10]"
   ]
  },
  {
   "cell_type": "code",
   "execution_count": 5,
   "metadata": {},
   "outputs": [
    {
     "data": {
      "text/html": [
       "<div>\n",
       "<style scoped>\n",
       "    .dataframe tbody tr th:only-of-type {\n",
       "        vertical-align: middle;\n",
       "    }\n",
       "\n",
       "    .dataframe tbody tr th {\n",
       "        vertical-align: top;\n",
       "    }\n",
       "\n",
       "    .dataframe thead th {\n",
       "        text-align: right;\n",
       "    }\n",
       "</style>\n",
       "<table border=\"1\" class=\"dataframe\">\n",
       "  <thead>\n",
       "    <tr style=\"text-align: right;\">\n",
       "      <th></th>\n",
       "      <th>0</th>\n",
       "      <th>1</th>\n",
       "      <th>2</th>\n",
       "      <th>3</th>\n",
       "      <th>4</th>\n",
       "      <th>5</th>\n",
       "      <th>6</th>\n",
       "      <th>7</th>\n",
       "      <th>8</th>\n",
       "      <th>9</th>\n",
       "    </tr>\n",
       "  </thead>\n",
       "  <tbody>\n",
       "    <tr>\n",
       "      <th>0</th>\n",
       "      <td>0.857800</td>\n",
       "      <td>0.857800</td>\n",
       "      <td>0.853878</td>\n",
       "      <td>0.843733</td>\n",
       "      <td>0.848102</td>\n",
       "      <td>0.845800</td>\n",
       "      <td>0.846078</td>\n",
       "      <td>0.846525</td>\n",
       "      <td>0.847698</td>\n",
       "      <td>0.846078</td>\n",
       "    </tr>\n",
       "    <tr>\n",
       "      <th>1</th>\n",
       "      <td>0.300451</td>\n",
       "      <td>0.338773</td>\n",
       "      <td>0.371553</td>\n",
       "      <td>0.384278</td>\n",
       "      <td>0.404569</td>\n",
       "      <td>0.421384</td>\n",
       "      <td>0.434278</td>\n",
       "      <td>0.426435</td>\n",
       "      <td>0.391141</td>\n",
       "      <td>0.344082</td>\n",
       "    </tr>\n",
       "    <tr>\n",
       "      <th>2</th>\n",
       "      <td>0.263635</td>\n",
       "      <td>0.266596</td>\n",
       "      <td>0.236608</td>\n",
       "      <td>0.205769</td>\n",
       "      <td>0.195455</td>\n",
       "      <td>0.208671</td>\n",
       "      <td>0.224592</td>\n",
       "      <td>0.230282</td>\n",
       "      <td>0.253278</td>\n",
       "      <td>0.246075</td>\n",
       "    </tr>\n",
       "    <tr>\n",
       "      <th>3</th>\n",
       "      <td>0.347216</td>\n",
       "      <td>0.349518</td>\n",
       "      <td>0.347898</td>\n",
       "      <td>0.348624</td>\n",
       "      <td>0.347047</td>\n",
       "      <td>0.343573</td>\n",
       "      <td>0.338243</td>\n",
       "      <td>0.334769</td>\n",
       "      <td>0.324859</td>\n",
       "      <td>0.303184</td>\n",
       "    </tr>\n",
       "    <tr>\n",
       "      <th>4</th>\n",
       "      <td>0.235149</td>\n",
       "      <td>0.236043</td>\n",
       "      <td>0.234914</td>\n",
       "      <td>0.230949</td>\n",
       "      <td>0.229776</td>\n",
       "      <td>0.231843</td>\n",
       "      <td>0.231565</td>\n",
       "      <td>0.228816</td>\n",
       "      <td>0.235039</td>\n",
       "      <td>0.234635</td>\n",
       "    </tr>\n",
       "    <tr>\n",
       "      <th>5</th>\n",
       "      <td>0.081110</td>\n",
       "      <td>0.113039</td>\n",
       "      <td>0.163639</td>\n",
       "      <td>0.196251</td>\n",
       "      <td>0.207569</td>\n",
       "      <td>0.208910</td>\n",
       "      <td>0.192306</td>\n",
       "      <td>0.172016</td>\n",
       "      <td>0.160953</td>\n",
       "      <td>0.152427</td>\n",
       "    </tr>\n",
       "    <tr>\n",
       "      <th>6</th>\n",
       "      <td>0.065741</td>\n",
       "      <td>0.070110</td>\n",
       "      <td>0.060243</td>\n",
       "      <td>0.066298</td>\n",
       "      <td>0.123098</td>\n",
       "      <td>0.174078</td>\n",
       "      <td>0.185118</td>\n",
       "      <td>0.166125</td>\n",
       "      <td>0.118788</td>\n",
       "      <td>0.080188</td>\n",
       "    </tr>\n",
       "    <tr>\n",
       "      <th>7</th>\n",
       "      <td>0.389129</td>\n",
       "      <td>0.381286</td>\n",
       "      <td>0.364706</td>\n",
       "      <td>0.364259</td>\n",
       "      <td>0.376749</td>\n",
       "      <td>0.388514</td>\n",
       "      <td>0.385039</td>\n",
       "      <td>0.391027</td>\n",
       "      <td>0.384314</td>\n",
       "      <td>0.377365</td>\n",
       "    </tr>\n",
       "    <tr>\n",
       "      <th>8</th>\n",
       "      <td>0.459165</td>\n",
       "      <td>0.459847</td>\n",
       "      <td>0.450831</td>\n",
       "      <td>0.444565</td>\n",
       "      <td>0.443224</td>\n",
       "      <td>0.427090</td>\n",
       "      <td>0.407482</td>\n",
       "      <td>0.415773</td>\n",
       "      <td>0.457055</td>\n",
       "      <td>0.467690</td>\n",
       "    </tr>\n",
       "    <tr>\n",
       "      <th>9</th>\n",
       "      <td>0.404784</td>\n",
       "      <td>0.419788</td>\n",
       "      <td>0.441506</td>\n",
       "      <td>0.458129</td>\n",
       "      <td>0.440098</td>\n",
       "      <td>0.427161</td>\n",
       "      <td>0.449475</td>\n",
       "      <td>0.441098</td>\n",
       "      <td>0.444486</td>\n",
       "      <td>0.427863</td>\n",
       "    </tr>\n",
       "  </tbody>\n",
       "</table>\n",
       "</div>"
      ],
      "text/plain": [
       "          0         1         2         3         4         5         6  \\\n",
       "0  0.857800  0.857800  0.853878  0.843733  0.848102  0.845800  0.846078   \n",
       "1  0.300451  0.338773  0.371553  0.384278  0.404569  0.421384  0.434278   \n",
       "2  0.263635  0.266596  0.236608  0.205769  0.195455  0.208671  0.224592   \n",
       "3  0.347216  0.349518  0.347898  0.348624  0.347047  0.343573  0.338243   \n",
       "4  0.235149  0.236043  0.234914  0.230949  0.229776  0.231843  0.231565   \n",
       "5  0.081110  0.113039  0.163639  0.196251  0.207569  0.208910  0.192306   \n",
       "6  0.065741  0.070110  0.060243  0.066298  0.123098  0.174078  0.185118   \n",
       "7  0.389129  0.381286  0.364706  0.364259  0.376749  0.388514  0.385039   \n",
       "8  0.459165  0.459847  0.450831  0.444565  0.443224  0.427090  0.407482   \n",
       "9  0.404784  0.419788  0.441506  0.458129  0.440098  0.427161  0.449475   \n",
       "\n",
       "          7         8         9  \n",
       "0  0.846525  0.847698  0.846078  \n",
       "1  0.426435  0.391141  0.344082  \n",
       "2  0.230282  0.253278  0.246075  \n",
       "3  0.334769  0.324859  0.303184  \n",
       "4  0.228816  0.235039  0.234635  \n",
       "5  0.172016  0.160953  0.152427  \n",
       "6  0.166125  0.118788  0.080188  \n",
       "7  0.391027  0.384314  0.377365  \n",
       "8  0.415773  0.457055  0.467690  \n",
       "9  0.441098  0.444486  0.427863  "
      ]
     },
     "execution_count": 5,
     "metadata": {},
     "output_type": "execute_result"
    }
   ],
   "source": [
    "extra_images.iloc[:10,:10]"
   ]
  },
  {
   "cell_type": "code",
   "execution_count": 6,
   "metadata": {},
   "outputs": [
    {
     "data": {
      "text/html": [
       "<div>\n",
       "<style scoped>\n",
       "    .dataframe tbody tr th:only-of-type {\n",
       "        vertical-align: middle;\n",
       "    }\n",
       "\n",
       "    .dataframe tbody tr th {\n",
       "        vertical-align: top;\n",
       "    }\n",
       "\n",
       "    .dataframe thead th {\n",
       "        text-align: right;\n",
       "    }\n",
       "</style>\n",
       "<table border=\"1\" class=\"dataframe\">\n",
       "  <thead>\n",
       "    <tr style=\"text-align: right;\">\n",
       "      <th></th>\n",
       "      <th>0</th>\n",
       "      <th>1</th>\n",
       "      <th>2</th>\n",
       "      <th>3</th>\n",
       "      <th>4</th>\n",
       "    </tr>\n",
       "  </thead>\n",
       "  <tbody>\n",
       "    <tr>\n",
       "      <th>0</th>\n",
       "      <td>10</td>\n",
       "      <td>10</td>\n",
       "      <td>10</td>\n",
       "      <td>3</td>\n",
       "      <td>5</td>\n",
       "    </tr>\n",
       "    <tr>\n",
       "      <th>1</th>\n",
       "      <td>10</td>\n",
       "      <td>10</td>\n",
       "      <td>10</td>\n",
       "      <td>1</td>\n",
       "      <td>5</td>\n",
       "    </tr>\n",
       "    <tr>\n",
       "      <th>2</th>\n",
       "      <td>10</td>\n",
       "      <td>10</td>\n",
       "      <td>10</td>\n",
       "      <td>2</td>\n",
       "      <td>9</td>\n",
       "    </tr>\n",
       "    <tr>\n",
       "      <th>3</th>\n",
       "      <td>10</td>\n",
       "      <td>10</td>\n",
       "      <td>10</td>\n",
       "      <td>10</td>\n",
       "      <td>5</td>\n",
       "    </tr>\n",
       "    <tr>\n",
       "      <th>4</th>\n",
       "      <td>10</td>\n",
       "      <td>10</td>\n",
       "      <td>10</td>\n",
       "      <td>3</td>\n",
       "      <td>6</td>\n",
       "    </tr>\n",
       "  </tbody>\n",
       "</table>\n",
       "</div>"
      ],
      "text/plain": [
       "    0   1   2   3  4\n",
       "0  10  10  10   3  5\n",
       "1  10  10  10   1  5\n",
       "2  10  10  10   2  9\n",
       "3  10  10  10  10  5\n",
       "4  10  10  10   3  6"
      ]
     },
     "execution_count": 6,
     "metadata": {},
     "output_type": "execute_result"
    }
   ],
   "source": [
    "train_labels.head()"
   ]
  },
  {
   "cell_type": "code",
   "execution_count": 7,
   "metadata": {},
   "outputs": [],
   "source": [
    "train_images = pd.concat([train_images, extra_images])\n",
    "train_labels = pd.concat([train_labels, extra_labels])"
   ]
  },
  {
   "cell_type": "code",
   "execution_count": 8,
   "metadata": {},
   "outputs": [],
   "source": [
    "num_classes = 11\n",
    "img_rows, img_cols = 32, 32\n",
    "batch_size = 128\n",
    "kernel_size = 5\n",
    "depth1 = 48\n",
    "depth2 = 64\n",
    "depth3 = 80\n",
    "depth4 = 96\n",
    "depth5 = 128\n",
    "depth6 = 128\n",
    "kernel_size = (3,3)\n",
    "pool_size=(2, 2)\n",
    "pad_type = 'same'\n",
    "strides = [1, 2]"
   ]
  },
  {
   "cell_type": "code",
   "execution_count": 9,
   "metadata": {},
   "outputs": [
    {
     "name": "stdout",
     "output_type": "stream",
     "text": [
      "Labels firs image: [10 10 10  3  5]\n"
     ]
    },
    {
     "data": {
      "text/plain": [
       "<matplotlib.image.AxesImage at 0x7f89f880eeb8>"
      ]
     },
     "execution_count": 9,
     "metadata": {},
     "output_type": "execute_result"
    },
    {
     "data": {
      "image/png": "[encoded data removed]",
      "text/plain": [
       "<Figure size 432x288 with 1 Axes>"
      ]
     },
     "metadata": {},
     "output_type": "display_data"
    }
   ],
   "source": [
    "print(\"Labels firs image: {}\".format(train_labels.iloc[0,:].values))\n",
    "plt.imshow(train_images.iloc[0,:].values.reshape(img_rows, img_cols), cmap=plt.cm.bone)"
   ]
  },
  {
   "cell_type": "code",
   "execution_count": 10,
   "metadata": {},
   "outputs": [
    {
     "name": "stdout",
     "output_type": "stream",
     "text": [
      "Labels last image: [10 10 10  5  6]\n"
     ]
    },
    {
     "data": {
      "text/plain": [
       "<matplotlib.image.AxesImage at 0x7f89f8936550>"
      ]
     },
     "execution_count": 10,
     "metadata": {},
     "output_type": "execute_result"
    },
    {
     "data": {
      "image/png": "[encoded data removed]",
      "text/plain": [
       "<Figure size 432x288 with 1 Axes>"
      ]
     },
     "metadata": {},
     "output_type": "display_data"
    }
   ],
   "source": [
    "print(\"Labels last image: {}\".format(train_labels.iloc[train_labels.shape[0]-1,:].values))\n",
    "plt.imshow(train_images.iloc[train_labels.shape[0]-1,:].values.reshape(img_rows, img_cols), cmap=plt.cm.bone)"
   ]
  },
  {
   "cell_type": "code",
   "execution_count": 11,
   "metadata": {},
   "outputs": [],
   "source": [
    "x_train = train_images.values.reshape(train_images.shape[0], img_rows, img_cols, 1)\n",
    "x_test = test_images.values.reshape(test_images.shape[0], img_rows, img_cols, 1)\n",
    "input_shape = (img_rows, img_cols, 1)\n",
    "\n",
    "y_train = keras.utils.to_categorical(train_labels, num_classes)\n",
    "y_test = keras.utils.to_categorical(test_labels, num_classes)\n",
    "y_train = [y_train[:, i] for i in range(5)]\n",
    "y_test = [y_test[:, i] for i in range(5)]"
   ]
  },
  {
   "cell_type": "code",
   "execution_count": 12,
   "metadata": {},
   "outputs": [
    {
     "data": {
      "text/plain": [
       "((26000, 32, 32, 1), (6000, 32, 32, 1))"
      ]
     },
     "execution_count": 12,
     "metadata": {},
     "output_type": "execute_result"
    }
   ],
   "source": [
    "x_train.shape, x_test.shape"
   ]
  },
  {
   "cell_type": "code",
   "execution_count": 14,
   "metadata": {},
   "outputs": [
    {
     "name": "stderr",
     "output_type": "stream",
     "text": [
      "/home/eduardo/.local/lib/python3.5/site-packages/ipykernel_launcher.py:30: UserWarning: Update your `Model` call to the Keras 2 API: `Model(inputs=Tensor(\"in..., outputs=[<tf.Tenso...)`\n"
     ]
    },
    {
     "data": {
      "text/plain": [
       "<keras.callbacks.History at 0x7f89aa2322b0>"
      ]
     },
     "execution_count": 14,
     "metadata": {},
     "output_type": "execute_result"
    }
   ],
   "source": [
    "#kaggle model\n",
    "model_input = Input(shape=(32, 32, 1))\n",
    "x = BatchNormalization()(model_input)\n",
    "        \n",
    "x = Conv2D(32, (3, 3), activation='relu', padding='same')(model_input)\n",
    "x = MaxPooling2D(pool_size=(2, 2))(x) \n",
    "    \n",
    "x = Conv2D(32, (3, 3), activation='relu')(x)\n",
    "x = MaxPooling2D(pool_size=(2, 2))(x)    \n",
    "x = Dropout(0.25)(x)\n",
    "    \n",
    "x = Conv2D(64, (3, 3), activation='relu')(x)       \n",
    "x = Conv2D(64, (3, 3), activation='relu')(x)    \n",
    "x = Dropout(0.25)(x)\n",
    "    \n",
    "x = Conv2D(128, (3, 3), activation='relu')(x)    \n",
    "x = Dropout(0.25)(x)\n",
    "              \n",
    "x = Flatten()(x)\n",
    "    \n",
    "x = Dense(512, activation='relu')(x)    \n",
    "x = Dropout(0.5)(x)\n",
    "    \n",
    "y1 = Dense(11, activation='softmax')(x)\n",
    "y2 = Dense(11, activation='softmax')(x)\n",
    "y3 = Dense(11, activation='softmax')(x)\n",
    "y4 = Dense(11, activation='softmax')(x)\n",
    "y5 = Dense(11, activation='softmax')(x)\n",
    "    \n",
    "model = Model(input=model_input, output=[y1, y2, y3, y4, y5])\n",
    "\n",
    "model.compile(loss='categorical_crossentropy', optimizer='adam', metrics=['accuracy'])\n",
    "model.fit(x_train, y_train, validation_data=(x_test, y_test), \n",
    "               epochs=50, batch_size=batch_size, verbose=0)"
   ]
  },
  {
   "cell_type": "code",
   "execution_count": 15,
   "metadata": {},
   "outputs": [
    {
     "name": "stdout",
     "output_type": "stream",
     "text": [
      "accurracy of digits: [0.9998333333333334, 0.991, 0.9415, 0.8775, 0.8606666666666667]\n"
     ]
    }
   ],
   "source": [
    "scores = model.evaluate(x_test, y_test, verbose=0)\n",
    "print(\"accurracy of digits: {}\".format(scores[-5:]))"
   ]
  },
  {
   "cell_type": "code",
   "execution_count": 16,
   "metadata": {},
   "outputs": [
    {
     "data": {
      "text/plain": [
       "[10, 10, 10, 8, 9]"
      ]
     },
     "execution_count": 16,
     "metadata": {},
     "output_type": "execute_result"
    }
   ],
   "source": [
    "probas = model.predict(np.array([x_test[1500]]))\n",
    "classes = []\n",
    "for array in probas:\n",
    "    classes.append(array.argmax())\n",
    "classes"
   ]
  },
  {
   "cell_type": "code",
   "execution_count": 17,
   "metadata": {},
   "outputs": [
    {
     "name": "stdout",
     "output_type": "stream",
     "text": [
      "Labels last test image: [10 10 10  8  9]\n"
     ]
    },
    {
     "data": {
      "text/plain": [
       "<matplotlib.image.AxesImage at 0x7f87c5e25c88>"
      ]
     },
     "execution_count": 17,
     "metadata": {},
     "output_type": "execute_result"
    },
    {
     "data": {
      "image/png": "[encoded data removed]",
      "text/plain": [
       "<Figure size 432x288 with 1 Axes>"
      ]
     },
     "metadata": {},
     "output_type": "display_data"
    }
   ],
   "source": [
    "print(\"Labels last test image: {}\".format(test_labels.iloc[1500,:].values))\n",
    "plt.imshow(test_images.iloc[1500,:].values.reshape(img_rows, img_cols), cmap=plt.cm.bone)"
   ]
  },
  {
   "cell_type": "code",
   "execution_count": 18,
   "metadata": {},
   "outputs": [
    {
     "name": "stderr",
     "output_type": "stream",
     "text": [
      "/home/eduardo/.local/lib/python3.5/site-packages/ipykernel_launcher.py:41: UserWarning: Update your `Model` call to the Keras 2 API: `Model(inputs=Tensor(\"in..., outputs=[<tf.Tenso...)`\n"
     ]
    },
    {
     "data": {
      "text/plain": [
       "<keras.callbacks.History at 0x7f878bcdfe10>"
      ]
     },
     "execution_count": 18,
     "metadata": {},
     "output_type": "execute_result"
    }
   ],
   "source": [
    "#paper model\n",
    "inputs = Input(shape = input_shape)\n",
    "\n",
    "x = Conv2D(filters=depth1, kernel_size=kernel_size, padding=pad_type, activation='relu')(inputs)\n",
    "x = BatchNormalization()(x)\n",
    "x = MaxPooling2D(pool_size=(2, 2), strides = (strides[1], strides[1]))(x)\n",
    "x = Dropout(0.25)(x)\n",
    "\n",
    "x = Conv2D(filters=depth2, kernel_size=kernel_size, padding=pad_type, activation='relu')(x)\n",
    "x = BatchNormalization()(x)\n",
    "x = Dropout(0.25)(x)\n",
    "\n",
    "x = Conv2D(filters=depth3, kernel_size=kernel_size, padding=pad_type, activation='relu')(x)\n",
    "x = BatchNormalization()(x)\n",
    "x = MaxPooling2D(pool_size=(2, 2), strides = (strides[0], strides[0]))(x)\n",
    "x = Dropout(0.25)(x)\n",
    "\n",
    "x = Conv2D(filters=depth4, kernel_size=kernel_size, padding=pad_type, activation='relu')(x)\n",
    "x = BatchNormalization()(x)\n",
    "x = MaxPooling2D(pool_size=(2, 2), strides = (strides[1], strides[1]))(x)\n",
    "x = Dropout(0.25)(x)\n",
    "\n",
    "x = Conv2D(filters=depth5, kernel_size=kernel_size, padding=pad_type, activation='relu')(x)\n",
    "x = BatchNormalization()(x)\n",
    "x = MaxPooling2D(pool_size=(2, 2), strides = (strides[0], strides[0]))(x)\n",
    "x = Dropout(0.25)(x)\n",
    "\n",
    "x = Conv2D(filters=depth6, kernel_size=kernel_size, padding=pad_type, activation='relu')(x)\n",
    "x = Activation('relu')(x)\n",
    "x = BatchNormalization()(x)\n",
    "x = Dropout(0.5)(x)\n",
    "\n",
    "x = Flatten(name=\"feature_vector\")(x)\n",
    "\n",
    "y1 = Dense(11, activation='softmax')(x)\n",
    "y2 = Dense(11, activation='softmax')(x)\n",
    "y3 = Dense(11, activation='softmax')(x)\n",
    "y4 = Dense(11, activation='softmax')(x)\n",
    "y5 = Dense(11, activation='softmax')(x)\n",
    "\n",
    "model = Model(input=inputs, output = [y1, y2, y3, y4, y5])\n",
    "model.compile(loss='categorical_crossentropy', optimizer='adam', metrics=['accuracy'])\n",
    "model.fit(x_train, y_train, validation_data=(x_test, y_test), \n",
    "               epochs=100, batch_size=batch_size, verbose=0)"
   ]
  },
  {
   "cell_type": "code",
   "execution_count": 19,
   "metadata": {},
   "outputs": [
    {
     "name": "stdout",
     "output_type": "stream",
     "text": [
      "accurracy of digits: [0.9998333333333334, 0.9963333333333333, 0.9726666666666667, 0.9398333333333333, 0.9268333333333333]\n"
     ]
    }
   ],
   "source": [
    "scores = model.evaluate(x_test, y_test, verbose=0)\n",
    "print(\"accurracy of digits: {}\".format(scores[-5:]))"
   ]
  }
 ],
 "metadata": {
  "kernelspec": {
   "display_name": "Python 3",
   "language": "python",
   "name": "python3"
  },
  "language_info": {
   "codemirror_mode": {
    "name": "ipython",
    "version": 3
   },
   "file_extension": ".py",
   "mimetype": "text/x-python",
   "name": "python",
   "nbconvert_exporter": "python",
   "pygments_lexer": "ipython3",
   "version": "3.5.2"
  }
 },
 "nbformat": 4,
 "nbformat_minor": 2
}
